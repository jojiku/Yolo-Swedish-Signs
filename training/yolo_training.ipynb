{
 "cells": [
  {
   "cell_type": "code",
   "execution_count": null,
   "id": "b0292ca1-017a-4da5-87e0-8a915a275e66",
   "metadata": {},
   "outputs": [],
   "source": [
    "from clearml import Task, Logger"
   ]
  },
  {
   "cell_type": "code",
   "execution_count": null,
   "id": "c3101f09-b477-4932-b9d0-70531946ebf5",
   "metadata": {},
   "outputs": [],
   "source": [
    "%env CLEARML_WEB_HOST=https://app.clear.ml\n",
    "%env CLEARML_API_HOST=https://api.clear.ml\n",
    "%env CLEARML_FILES_HOST=https://files.clear.ml\n",
    "%env CLEARML_API_ACCESS_KEY=@\n",
    "%env CLEARML_API_SECRET_KEY=@"
   ]
  },
  {
   "cell_type": "code",
   "execution_count": null,
   "id": "78e220a5-9db0-4585-ae4b-318c3f3f5ab5",
   "metadata": {},
   "outputs": [],
   "source": [
    "task = Task.get_task(task_id='499cd7cf88714ef2b35c650c1029230c') "
   ]
  },
  {
   "cell_type": "code",
   "execution_count": null,
   "id": "091f303b-42fc-42a1-aaeb-7edf9224f6ca",
   "metadata": {},
   "outputs": [],
   "source": [
    "%cd C:\\Users\\Tseh\\Documents\\YOLO\\yolov5"
   ]
  },
  {
   "cell_type": "code",
   "execution_count": null,
   "id": "08b2981b-dbcf-41c7-b17d-c493e90be47d",
   "metadata": {},
   "outputs": [],
   "source": [
    "logger = 'ClearML' #@param ['Comet', 'ClearML', 'TensorBoard']\n",
    "\n",
    "if logger == 'Comet':\n",
    "  ! pip install -q comet_ml\n",
    "  import comet_ml; comet_ml.init()\n",
    "elif logger == 'ClearML':\n",
    "  ! pip install -q clearml\n",
    "  import clearml; clearml.browser_login(task)\n",
    "elif logger == 'TensorBoard':\n",
    "  ! load_ext tensorboard\n",
    "  ! tensorboard --logdir runs/train"
   ]
  },
  {
   "cell_type": "code",
   "execution_count": null,
   "id": "2469ec2e-5883-437f-bcf6-5a08fcaccf0e",
   "metadata": {},
   "outputs": [],
   "source": [
    "# Assuming you want to train with YOLOv5s architecture\n",
    "!python train.py --img 640 --batch 32 --epochs 2 --data yolo_annotations_SwedishSigns.yaml --weights yolov5s.pt "
   ]
  },
  {
   "cell_type": "code",
   "execution_count": null,
   "id": "a1e14277-e4a8-47bf-8fee-f899452f39a6",
   "metadata": {},
   "outputs": [],
   "source": [
    "!python detect.py --weights C:/Users/Tseh/Documents/YOLO/yolov5/runs/train/exp14/weights/best.pt --img 640 --conf 0.25 --source C:/Users/Tseh/Documents/YOLO/yolov5/1/1.jpg"
   ]
  }
 ],
 "metadata": {
  "kernelspec": {
   "display_name": "Python 3 (ipykernel)",
   "language": "python",
   "name": "python3"
  },
  "language_info": {
   "codemirror_mode": {
    "name": "ipython",
    "version": 3
   },
   "file_extension": ".py",
   "mimetype": "text/x-python",
   "name": "python",
   "nbconvert_exporter": "python",
   "pygments_lexer": "ipython3",
   "version": "3.10.9"
  }
 },
 "nbformat": 4,
 "nbformat_minor": 5
}
