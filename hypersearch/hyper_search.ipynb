{
 "cells": [
  {
   "cell_type": "code",
   "execution_count": 1,
   "metadata": {},
   "outputs": [
    {
     "name": "stdout",
     "output_type": "stream",
     "text": [
      "env: CLEARML_WEB_HOST=https://app.clear.ml\n",
      "env: CLEARML_API_HOST=https://api.clear.ml\n",
      "env: CLEARML_FILES_HOST=https://files.clear.ml\n",
      "env: CLEARML_API_ACCESS_KEY=\n",
      "env: CLEARML_API_SECRET_KEY=\n"
     ]
    }
   ],
   "source": [
    "%env CLEARML_WEB_HOST=https://app.clear.ml\n",
    "%env CLEARML_API_HOST=https://api.clear.ml\n",
    "%env CLEARML_FILES_HOST=https://files.clear.ml\n",
    "%env CLEARML_API_ACCESS_KEY=\n",
    "%env CLEARML_API_SECRET_KEY="
   ]
  },
  {
   "cell_type": "code",
   "execution_count": 2,
   "metadata": {},
   "outputs": [],
   "source": [
    "from clearml.automation import UniformParameterRange, UniformIntegerParameterRange\n",
    "from clearml.automation import HyperParameterOptimizer\n",
    "from clearml.automation.optuna import OptimizerOptuna\n",
    "from clearml import Task\n",
    "from ultralytics import YOLO"
   ]
  },
  {
   "cell_type": "code",
   "execution_count": 3,
   "metadata": {},
   "outputs": [
    {
     "name": "stdout",
     "output_type": "stream",
     "text": [
      "ClearML Task: created new task id=6e7960fcac2f48f3bca2309fc6309a6b\n",
      "2023-11-28 13:44:38,087 - clearml.Repository Detection - WARNING - Could not read Jupyter Notebook: No module named 'nbconvert'\n",
      "2023-11-28 13:44:38,104 - clearml.Task - INFO - Storing jupyter notebook directly as code\n",
      "ClearML results page: https://app.clear.ml/projects/3e1bc25f4999483abd193d50661626dc/experiments/6e7960fcac2f48f3bca2309fc6309a6b/output/log\n",
      "2023-11-28 13:44:41,230 - clearml.model - INFO - Selected model id: be8ff86439664d648bce47a8de373613\n",
      "Ultralytics YOLOv8.0.219 🚀 Python-3.11.6 torch-2.1.1+cu118 CUDA:0 (NVIDIA GeForce RTX 4070, 12282MiB)\n",
      "\u001b[34m\u001b[1mengine\\trainer: \u001b[0mtask=detect, mode=train, model=yolov8n.pt, data=./datasets/swedish_signs/yolo_annotations_SwedishSigns.yaml, epochs=3, patience=50, batch=16, imgsz=640, save=True, save_period=-1, cache=False, device=None, workers=8, project=None, name=train46, exist_ok=False, pretrained=True, optimizer=auto, verbose=True, seed=0, deterministic=True, single_cls=False, rect=False, cos_lr=False, close_mosaic=10, resume=False, amp=True, fraction=1.0, profile=False, freeze=None, overlap_mask=True, mask_ratio=4, dropout=0.0, val=True, split=val, save_json=False, save_hybrid=False, conf=None, iou=0.7, max_det=300, half=False, dnn=False, plots=True, source=None, vid_stride=1, stream_buffer=False, visualize=False, augment=False, agnostic_nms=False, classes=None, retina_masks=False, show=False, save_frames=False, save_txt=False, save_conf=False, save_crop=False, show_labels=True, show_conf=True, show_boxes=True, line_width=None, format=torchscript, keras=False, optimize=False, int8=False, dynamic=False, simplify=False, opset=None, workspace=4, nms=False, lr0=0.01, lrf=0.01, momentum=0.937, weight_decay=0.0005, warmup_epochs=3.0, warmup_momentum=0.8, warmup_bias_lr=0.1, box=7.5, cls=0.5, dfl=1.5, pose=12.0, kobj=1.0, label_smoothing=0.0, nbs=64, hsv_h=0.015, hsv_s=0.7, hsv_v=0.4, degrees=0.0, translate=0.1, scale=0.5, shear=0.0, perspective=0.0, flipud=0.0, fliplr=0.5, mosaic=1.0, mixup=0.0, copy_paste=0.0, cfg=None, tracker=botsort.yaml, save_dir=runs\\detect\\train46\n",
      "Overriding model.yaml nc=80 with nc=20\n",
      "\n",
      "                   from  n    params  module                                       arguments                     \n",
      "  0                  -1  1       464  ultralytics.nn.modules.conv.Conv             [3, 16, 3, 2]                 \n",
      "  1                  -1  1      4672  ultralytics.nn.modules.conv.Conv             [16, 32, 3, 2]                \n",
      "  2                  -1  1      7360  ultralytics.nn.modules.block.C2f             [32, 32, 1, True]             \n",
      "  3                  -1  1     18560  ultralytics.nn.modules.conv.Conv             [32, 64, 3, 2]                \n",
      "  4                  -1  2     49664  ultralytics.nn.modules.block.C2f             [64, 64, 2, True]             \n",
      "  5                  -1  1     73984  ultralytics.nn.modules.conv.Conv             [64, 128, 3, 2]               \n",
      "  6                  -1  2    197632  ultralytics.nn.modules.block.C2f             [128, 128, 2, True]           \n",
      "  7                  -1  1    295424  ultralytics.nn.modules.conv.Conv             [128, 256, 3, 2]              \n",
      "  8                  -1  1    460288  ultralytics.nn.modules.block.C2f             [256, 256, 1, True]           \n",
      "  9                  -1  1    164608  ultralytics.nn.modules.block.SPPF            [256, 256, 5]                 \n",
      " 10                  -1  1         0  torch.nn.modules.upsampling.Upsample         [None, 2, 'nearest']          \n",
      " 11             [-1, 6]  1         0  ultralytics.nn.modules.conv.Concat           [1]                           \n",
      " 12                  -1  1    148224  ultralytics.nn.modules.block.C2f             [384, 128, 1]                 \n",
      " 13                  -1  1         0  torch.nn.modules.upsampling.Upsample         [None, 2, 'nearest']          \n",
      " 14             [-1, 4]  1         0  ultralytics.nn.modules.conv.Concat           [1]                           \n",
      " 15                  -1  1     37248  ultralytics.nn.modules.block.C2f             [192, 64, 1]                  \n",
      " 16                  -1  1     36992  ultralytics.nn.modules.conv.Conv             [64, 64, 3, 2]                \n",
      " 17            [-1, 12]  1         0  ultralytics.nn.modules.conv.Concat           [1]                           \n",
      " 18                  -1  1    123648  ultralytics.nn.modules.block.C2f             [192, 128, 1]                 \n",
      " 19                  -1  1    147712  ultralytics.nn.modules.conv.Conv             [128, 128, 3, 2]              \n",
      " 20             [-1, 9]  1         0  ultralytics.nn.modules.conv.Concat           [1]                           \n",
      " 21                  -1  1    493056  ultralytics.nn.modules.block.C2f             [384, 256, 1]                 \n",
      " 22        [15, 18, 21]  1    755212  ultralytics.nn.modules.head.Detect           [20, [64, 128, 256]]          \n",
      "Model summary: 225 layers, 3014748 parameters, 3014732 gradients, 8.2 GFLOPs\n",
      "\n",
      "Transferred 319/355 items from pretrained weights\n",
      "Freezing layer 'model.22.dfl.conv.weight'\n",
      "\u001b[34m\u001b[1mAMP: \u001b[0mrunning Automatic Mixed Precision (AMP) checks with YOLOv8n...\n",
      "\u001b[34m\u001b[1mAMP: \u001b[0mchecks passed ✅\n"
     ]
    },
    {
     "name": "stderr",
     "output_type": "stream",
     "text": [
      "\u001b[34m\u001b[1mtrain: \u001b[0mScanning D:\\Projects\\Study\\GOP\\datasets\\swedish_signs\\labels\\train2023.cache... 1484 images, 0 backgrounds, 0 corrupt: 100%|██████████| 1484/1484 [00:00<?, ?it/s]\n",
      "\u001b[34m\u001b[1mval: \u001b[0mScanning D:\\Projects\\Study\\GOP\\datasets\\swedish_signs\\labels\\test2023.cache... 220 images, 0 backgrounds, 0 corrupt: 100%|██████████| 220/220 [00:00<?, ?it/s]\n"
     ]
    },
    {
     "name": "stdout",
     "output_type": "stream",
     "text": [
      "Plotting labels to runs\\detect\\train46\\labels.jpg... \n",
      "\u001b[34m\u001b[1moptimizer:\u001b[0m 'optimizer=auto' found, ignoring 'lr0=0.01' and 'momentum=0.937' and determining best 'optimizer', 'lr0' and 'momentum' automatically... \n",
      "\u001b[34m\u001b[1moptimizer:\u001b[0m AdamW(lr=0.000417, momentum=0.9) with parameter groups 57 weight(decay=0.0), 64 weight(decay=0.0005), 63 bias(decay=0.0)\n",
      "Image sizes 640 train, 640 val\n",
      "Using 8 dataloader workers\n",
      "Logging results to \u001b[1mruns\\detect\\train46\u001b[0m\n",
      "Starting training for 3 epochs...\n",
      "\n",
      "      Epoch    GPU_mem   box_loss   cls_loss   dfl_loss  Instances       Size\n"
     ]
    },
    {
     "name": "stderr",
     "output_type": "stream",
     "text": [
      "        1/3      2.21G      1.527      5.631     0.9404         34        640: 100%|██████████| 93/93 [00:09<00:00,  9.93it/s]\n",
      "                 Class     Images  Instances      Box(P          R      mAP50  mAP50-95): 100%|██████████| 7/7 [00:01<00:00,  5.86it/s]"
     ]
    },
    {
     "name": "stdout",
     "output_type": "stream",
     "text": [
      "                   all        220        562     0.0683      0.377       0.13     0.0845\n"
     ]
    },
    {
     "name": "stderr",
     "output_type": "stream",
     "text": [
      "\n"
     ]
    },
    {
     "name": "stdout",
     "output_type": "stream",
     "text": [
      "\n",
      "      Epoch    GPU_mem   box_loss   cls_loss   dfl_loss  Instances       Size\n"
     ]
    },
    {
     "name": "stderr",
     "output_type": "stream",
     "text": [
      "        2/3      2.22G      1.429      3.933     0.8991         33        640: 100%|██████████| 93/93 [00:08<00:00, 11.14it/s]\n",
      "                 Class     Images  Instances      Box(P          R      mAP50  mAP50-95): 100%|██████████| 7/7 [00:01<00:00,  6.27it/s]"
     ]
    },
    {
     "name": "stdout",
     "output_type": "stream",
     "text": [
      "                   all        220        562      0.285      0.213      0.235      0.146\n"
     ]
    },
    {
     "name": "stderr",
     "output_type": "stream",
     "text": [
      "\n"
     ]
    },
    {
     "name": "stdout",
     "output_type": "stream",
     "text": [
      "\n",
      "      Epoch    GPU_mem   box_loss   cls_loss   dfl_loss  Instances       Size\n"
     ]
    },
    {
     "name": "stderr",
     "output_type": "stream",
     "text": [
      "        3/3      2.21G        1.3      3.166     0.8899         37        640: 100%|██████████| 93/93 [00:07<00:00, 11.99it/s]\n",
      "                 Class     Images  Instances      Box(P          R      mAP50  mAP50-95): 100%|██████████| 7/7 [00:01<00:00,  6.24it/s]"
     ]
    },
    {
     "name": "stdout",
     "output_type": "stream",
     "text": [
      "                   all        220        562      0.327      0.383      0.304      0.183\n"
     ]
    },
    {
     "name": "stderr",
     "output_type": "stream",
     "text": [
      "\n"
     ]
    },
    {
     "name": "stdout",
     "output_type": "stream",
     "text": [
      "\n",
      "3 epochs completed in 0.008 hours.\n",
      "Optimizer stripped from runs\\detect\\train46\\weights\\last.pt, 6.2MB\n",
      "Optimizer stripped from runs\\detect\\train46\\weights\\best.pt, 6.2MB\n",
      "\n",
      "Validating runs\\detect\\train46\\weights\\best.pt...\n",
      "Ultralytics YOLOv8.0.219 🚀 Python-3.11.6 torch-2.1.1+cu118 CUDA:0 (NVIDIA GeForce RTX 4070, 12282MiB)\n",
      "Model summary (fused): 168 layers, 3009548 parameters, 0 gradients, 8.1 GFLOPs\n"
     ]
    },
    {
     "name": "stderr",
     "output_type": "stream",
     "text": [
      "                 Class     Images  Instances      Box(P          R      mAP50  mAP50-95): 100%|██████████| 7/7 [00:01<00:00,  4.74it/s]\n"
     ]
    },
    {
     "name": "stdout",
     "output_type": "stream",
     "text": [
      "                   all        220        562      0.328      0.383      0.303      0.183\n",
      "                 OTHER        220        122      0.308      0.508      0.452      0.278\n",
      "         PRIORITY_ROAD        220         35      0.321      0.543      0.527       0.36\n",
      "       PASS_RIGHT_SIDE        220         78      0.425      0.231      0.255      0.137\n",
      "              GIVE_WAY        220        112      0.903      0.411        0.5      0.283\n",
      "               70_SIGN        220         43      0.228      0.721      0.278      0.187\n",
      "               50_SIGN        220        107      0.509      0.474      0.451      0.249\n",
      "              110_SIGN        220         33      0.186      0.485      0.156     0.0875\n",
      "               90_SIGN        220         23     0.0709     0.0734       0.11     0.0611\n",
      "                 URDBL        220          9          0          0          0          0\n",
      "Speed: 0.1ms preprocess, 1.1ms inference, 0.0ms loss, 0.9ms postprocess per image\n",
      "Results saved to \u001b[1mruns\\detect\\train46\u001b[0m\n",
      "2023-11-28 13:46:47,561 - clearml.storage - INFO - Starting upload: runs\\detect\\train46\\weights\\best.pt => https://files.clear.ml/Team 10/exp for optimization.6e7960fcac2f48f3bca2309fc6309a6b/models/best.pt\n",
      "Finish training\n"
     ]
    }
   ],
   "source": [
    "task = Task.init(project_name='Team 10', task_name='exp for optimization', tags=['YOLOv8', 'hyperparameters'])\n",
    "\n",
    "model = YOLO('yolov8n.pt')\n",
    "results = model.train(data='./datasets/swedish_signs/yolo_annotations_SwedishSigns.yaml', epochs=3, imgsz=640)\n",
    "print('Finish training')\n",
    "\n",
    "task.close()"
   ]
  },
  {
   "cell_type": "code",
   "execution_count": 4,
   "metadata": {},
   "outputs": [
    {
     "name": "stderr",
     "output_type": "stream",
     "text": [
      "Could not read Jupyter Notebook: No module named 'nbconvert'\n"
     ]
    },
    {
     "name": "stdout",
     "output_type": "stream",
     "text": [
      "ClearML Task: created new task id=04cf4d50f3b44089acf78c57d6fbf8f8\n",
      "ClearML results page: https://app.clear.ml/projects/3e1bc25f4999483abd193d50661626dc/experiments/04cf4d50f3b44089acf78c57d6fbf8f8/output/log\n"
     ]
    }
   ],
   "source": [
    "PROJECT_NAME = 'Team 10'\n",
    "TASK_NAME = 'Automatic Hyper-Parameter Optimization'\n",
    "\n",
    "opt_task = Task.init(\n",
    "    project_name=PROJECT_NAME,\n",
    "    task_name=TASK_NAME,\n",
    "    task_type=Task.TaskTypes.optimizer,\n",
    "    reuse_last_task_id=False,\n",
    "    tags=['YOLOv8', 'hyperparameters']\n",
    ")"
   ]
  },
  {
   "cell_type": "code",
   "execution_count": 5,
   "metadata": {},
   "outputs": [],
   "source": [
    "def job_complete_callback(\n",
    "    job_id,                 # type: str\n",
    "    objective_value,        # type: float\n",
    "    objective_iteration,    # type: int\n",
    "    job_parameters,         # type: dict\n",
    "    top_performance_job_id  # type: str\n",
    "):\n",
    "    print('Job completed!', job_id, objective_value, objective_iteration, job_parameters)\n",
    "    if job_id == top_performance_job_id:\n",
    "        print('WOOT WOOT we broke the record! Objective reached {}'.format(objective_value))\n",
    "\n",
    "# experiment template to optimize in the hyperparameter optimization\n",
    "args = {\n",
    "    'template_task_id': task.task_id,\n",
    "    'run_as_service': False,\n",
    "}\n",
    "args = opt_task.connect(args)\n",
    "    \n",
    "# # Get the template task experiment that we want to optimize\n",
    "# if not args['template_task_id']:\n",
    "#     args['template_task_id'] = Task.get_task(\n",
    "#         project_name=PROJECT_NAME, task_name=TASK_NAME).id"
   ]
  },
  {
   "cell_type": "code",
   "execution_count": 6,
   "metadata": {},
   "outputs": [],
   "source": [
    "optimizer = HyperParameterOptimizer(\n",
    "      # specifying the task to be optimized, task must be in system already so it can be cloned\n",
    "      base_task_id=args['template_task_id'],\n",
    "      # setting the hyperparameters to optimize\n",
    "      hyper_parameters=[\n",
    "          UniformIntegerParameterRange('General/epochs', min_value=40, max_value=60, step_size=5),\n",
    "          UniformIntegerParameterRange('General/batch', min_value=2, max_value=16, step_size=2),\n",
    "          UniformParameterRange('General/dropout', min_value=0, max_value=0.5, step_size=0.05),\n",
    "          UniformParameterRange('General/lr0', min_value=0.00025, max_value=0.01, step_size=0.00025),\n",
    "          ],\n",
    "      # setting the objective metric we want to maximize/minimize\n",
    "      objective_metric_title='train',\n",
    "      objective_metric_series='metrics/mAP50(B)',\n",
    "      objective_metric_sign='max',  \n",
    "\n",
    "      # setting optimizer  \n",
    "      optimizer_class=OptimizerOptuna,\n",
    "  \n",
    "      # configuring optimization parameters\n",
    "      execution_queue='default',  \n",
    "      max_number_of_concurrent_tasks=2,  \n",
    "      optimization_time_limit=None, \n",
    "      compute_time_limit=240, \n",
    "      total_max_jobs=50,  \n",
    "      min_iteration_per_job=15000,  \n",
    "      max_iteration_per_job=150000,  \n",
    "      )"
   ]
  },
  {
   "cell_type": "code",
   "execution_count": 7,
   "metadata": {},
   "outputs": [
    {
     "name": "stderr",
     "output_type": "stream",
     "text": [
      "[I 2023-11-28 13:47:50,437] A new study created in memory with name: 04cf4d50f3b44089acf78c57d6fbf8f8\n"
     ]
    },
    {
     "name": "stdout",
     "output_type": "stream",
     "text": [
      "Progress report #0 completed, sleeping for 0.25 minutes\n",
      "Progress report #1 completed, sleeping for 10.0 minutes\n",
      "Progress report #2 completed, sleeping for 10.0 minutes\n",
      "Progress report #3 completed, sleeping for 10.0 minutes\n",
      "Progress report #4 completed, sleeping for 10.0 minutes\n",
      "Progress report #5 completed, sleeping for 10.0 minutes\n",
      "Progress report #6 completed, sleeping for 10.0 minutes\n",
      "Progress report #7 completed, sleeping for 10.0 minutes\n",
      "Progress report #8 completed, sleeping for 10.0 minutes\n",
      "Progress report #9 completed, sleeping for 10.0 minutes\n",
      "Progress report #10 completed, sleeping for 10.0 minutes\n",
      "Progress report #11 completed, sleeping for 10.0 minutes\n",
      "Progress report #12 completed, sleeping for 10.0 minutes\n",
      "Progress report #13 completed, sleeping for 10.0 minutes\n",
      "Progress report #14 completed, sleeping for 10.0 minutes\n",
      "Progress report #15 completed, sleeping for 10.0 minutes\n",
      "Progress report #16 completed, sleeping for 10.0 minutes\n",
      "Progress report #17 completed, sleeping for 10.0 minutes\n",
      "Progress report #18 completed, sleeping for 10.0 minutes\n",
      "Progress report #19 completed, sleeping for 10.0 minutes\n",
      "Progress report #20 completed, sleeping for 10.0 minutes\n",
      "Progress report #21 completed, sleeping for 10.0 minutes\n",
      "Progress report #22 completed, sleeping for 10.0 minutes\n",
      "Progress report #23 completed, sleeping for 10.0 minutes\n",
      "Progress report #24 completed, sleeping for 10.0 minutes\n",
      "Progress report #25 completed, sleeping for 10.0 minutes\n",
      "Progress report #26 completed, sleeping for 10.0 minutes\n",
      "Progress report #27 completed, sleeping for 10.0 minutes\n",
      "Progress report #28 completed, sleeping for 10.0 minutes\n",
      "Progress report #29 completed, sleeping for 10.0 minutes\n",
      "Progress report #30 completed, sleeping for 8.6164430975914 minutes\n",
      "['97302db4ff1c44eaace09c18cf93f399', 'ce7c086074a54cc6a59f737bb5345c2e']\n",
      "`Study.stop` is supposed to be invoked inside an objective function or a callback.\n",
      "`Study.stop` is supposed to be invoked inside an objective function or a callback.\n"
     ]
    }
   ],
   "source": [
    "# report every 12 seconds, this is way too often, but we are testing here J\n",
    "optimizer.set_report_period(10)\n",
    "# start the optimization process, callback function to be called every time an experiment is completed\n",
    "# this function returns immediately\n",
    "optimizer.start(job_complete_callback=job_complete_callback)\n",
    "# set the time limit for the optimization process (2 hours)\n",
    "optimizer.set_time_limit(in_minutes=300.0)\n",
    "# wait until process is done (notice we are controlling the optimization process in the background)\n",
    "optimizer.wait()\n",
    "# optimization is completed, print the top performing experiments id\n",
    "top_exp = optimizer.get_top_experiments(top_k=3)\n",
    "print([t.id for t in top_exp])\n",
    "# make sure background optimization stopped\n",
    "optimizer.stop()"
   ]
  },
  {
   "cell_type": "code",
   "execution_count": 8,
   "metadata": {},
   "outputs": [],
   "source": [
    "task.close()"
   ]
  },
  {
   "cell_type": "code",
   "execution_count": null,
   "metadata": {},
   "outputs": [],
   "source": []
  }
 ],
 "metadata": {
  "kernelspec": {
   "display_name": "Python 3",
   "language": "python",
   "name": "python3"
  },
  "language_info": {
   "codemirror_mode": {
    "name": "ipython",
    "version": 3
   },
   "file_extension": ".py",
   "mimetype": "text/x-python",
   "name": "python",
   "nbconvert_exporter": "python",
   "pygments_lexer": "ipython3",
   "version": "3.11.6"
  }
 },
 "nbformat": 4,
 "nbformat_minor": 2
}
