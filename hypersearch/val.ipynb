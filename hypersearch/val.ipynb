{
 "cells": [
  {
   "cell_type": "code",
   "execution_count": null,
   "metadata": {},
   "outputs": [],
   "source": [
    "%env CLEARML_WEB_HOST=https://app.clear.ml\n",
    "%env CLEARML_API_HOST=https://api.clear.ml\n",
    "%env CLEARML_FILES_HOST=https://files.clear.ml\n",
    "%env CLEARML_API_ACCESS_KEY=\n",
    "%env CLEARML_API_SECRET_KEY="
   ]
  },
  {
   "cell_type": "code",
   "execution_count": 1,
   "metadata": {},
   "outputs": [
    {
     "name": "stdout",
     "output_type": "stream",
     "text": [
      "Ultralytics YOLOv8.0.219 🚀 Python-3.11.6 torch-2.1.1+cu118 CUDA:0 (NVIDIA GeForce RTX 4070, 12282MiB)\n",
      "Model summary (fused): 168 layers, 3009548 parameters, 0 gradients, 8.1 GFLOPs\n"
     ]
    },
    {
     "name": "stderr",
     "output_type": "stream",
     "text": [
      "\u001b[34m\u001b[1mval: \u001b[0mScanning D:\\Projects\\Study\\GOP\\datasets\\swedish_signs\\labels\\test2023.cache... 220 images, 0 backgrounds, 0 corrupt: 100%|██████████| 220/220 [00:00<?, ?it/s]\n",
      "                 Class     Images  Instances      Box(P          R      mAP50  mAP50-95): 100%|██████████| 14/14 [00:02<00:00,  6.36it/s]\n"
     ]
    },
    {
     "name": "stdout",
     "output_type": "stream",
     "text": [
      "                   all        220        562      0.846      0.638      0.754      0.591\n",
      "                 OTHER        220        122      0.963      0.648      0.817      0.623\n",
      "         PRIORITY_ROAD        220         35       0.88      0.629      0.789       0.65\n",
      "       PASS_RIGHT_SIDE        220         78      0.886        0.5      0.713      0.526\n",
      "              GIVE_WAY        220        112      0.951      0.688      0.835      0.602\n",
      "               70_SIGN        220         43      0.955      0.977      0.985      0.807\n",
      "               50_SIGN        220        107      0.978      0.822      0.906      0.678\n",
      "              110_SIGN        220         33          1      0.788      0.894      0.745\n",
      "               90_SIGN        220         23          1      0.696      0.848      0.685\n",
      "                 URDBL        220          9          0          0          0          0\n",
      "Speed: 1.0ms preprocess, 2.6ms inference, 0.0ms loss, 0.8ms postprocess per image\n",
      "Results saved to \u001b[1mruns\\detect\\val7\u001b[0m\n",
      "mAP: 0.5906827194687537\n",
      "mAP 50: 0.7540554821579593\n"
     ]
    }
   ],
   "source": [
    "from ultralytics import YOLO\n",
    "\n",
    "model = YOLO('./runs/detect/tune3/weights/best.pt')\n",
    "\n",
    "val_results = model.val(data='./datasets/swedish_signs/yolo_annotations_SwedishSigns.yaml', conf=0.25)\n",
    "print(f'mAP: {val_results.box.map}')\n",
    "print(f'mAP 50: {val_results.box.map50}')"
   ]
  },
  {
   "cell_type": "code",
   "execution_count": 2,
   "metadata": {},
   "outputs": [
    {
     "name": "stdout",
     "output_type": "stream",
     "text": [
      "\n",
      "\n",
      "WARNING ⚠️ inference results will accumulate in RAM unless `stream=True` is passed, causing potential out-of-memory\n",
      "errors for large sources or long-running streams and videos. See https://docs.ultralytics.com/modes/predict/ for help.\n",
      "\n",
      "Example:\n",
      "    results = model(source=..., stream=True)  # generator of Results objects\n",
      "    for r in results:\n",
      "        boxes = r.boxes  # Boxes object for bbox outputs\n",
      "        masks = r.masks  # Masks object for segment masks outputs\n",
      "        probs = r.probs  # Class probabilities for classification outputs\n",
      "\n",
      "video 1/1 (1/70) d:\\Projects\\Study\\GOP\\videos\\test.mp4: 384x640 1 OTHER, 1 GIVE_WAY, 1 50_SIGN, 1 90_SIGN, 122.5ms\n",
      "video 1/1 (2/70) d:\\Projects\\Study\\GOP\\videos\\test.mp4: 384x640 1 OTHER, 1 70_SIGN, 1 80_SIGN, 1 90_SIGN, 74.0ms\n",
      "video 1/1 (3/70) d:\\Projects\\Study\\GOP\\videos\\test.mp4: 384x640 1 OTHER, 1 GIVE_WAY, 1 70_SIGN, 1 NO_STOPPING_NO_STANDING, 1 90_SIGN, 7.1ms\n",
      "video 1/1 (4/70) d:\\Projects\\Study\\GOP\\videos\\test.mp4: 384x640 1 OTHER, 1 70_SIGN, 1 90_SIGN, 5.5ms\n",
      "video 1/1 (5/70) d:\\Projects\\Study\\GOP\\videos\\test.mp4: 384x640 1 OTHER, 1 GIVE_WAY, 1 70_SIGN, 1 50_SIGN, 7.0ms\n",
      "video 1/1 (6/70) d:\\Projects\\Study\\GOP\\videos\\test.mp4: 384x640 1 OTHER, 1 GIVE_WAY, 1 70_SIGN, 1 50_SIGN, 5.8ms\n",
      "video 1/1 (7/70) d:\\Projects\\Study\\GOP\\videos\\test.mp4: 384x640 1 OTHER, 1 GIVE_WAY, 1 70_SIGN, 1 50_SIGN, 7.1ms\n",
      "video 1/1 (8/70) d:\\Projects\\Study\\GOP\\videos\\test.mp4: 384x640 1 OTHER, 1 GIVE_WAY, 1 70_SIGN, 2 50_SIGNs, 1 NO_STOPPING_NO_STANDING, 10.5ms\n",
      "video 1/1 (9/70) d:\\Projects\\Study\\GOP\\videos\\test.mp4: 384x640 1 OTHER, 2 GIVE_WAYs, 2 50_SIGNs, 5.5ms\n",
      "video 1/1 (10/70) d:\\Projects\\Study\\GOP\\videos\\test.mp4: 384x640 2 GIVE_WAYs, 2 50_SIGNs, 5.0ms\n",
      "video 1/1 (11/70) d:\\Projects\\Study\\GOP\\videos\\test.mp4: 384x640 1 GIVE_WAY, 1 70_SIGN, 2 50_SIGNs, 6.1ms\n",
      "video 1/1 (12/70) d:\\Projects\\Study\\GOP\\videos\\test.mp4: 384x640 1 OTHER, 3 GIVE_WAYs, 1 70_SIGN, 1 50_SIGN, 5.0ms\n",
      "video 1/1 (13/70) d:\\Projects\\Study\\GOP\\videos\\test.mp4: 384x640 1 OTHER, 1 GIVE_WAY, 1 70_SIGN, 2 50_SIGNs, 5.5ms\n",
      "video 1/1 (14/70) d:\\Projects\\Study\\GOP\\videos\\test.mp4: 384x640 1 OTHER, 1 GIVE_WAY, 1 70_SIGN, 2 50_SIGNs, 5.6ms\n",
      "video 1/1 (15/70) d:\\Projects\\Study\\GOP\\videos\\test.mp4: 384x640 1 OTHER, 1 GIVE_WAY, 3 50_SIGNs, 5.0ms\n",
      "video 1/1 (16/70) d:\\Projects\\Study\\GOP\\videos\\test.mp4: 384x640 1 OTHER, 1 GIVE_WAY, 1 70_SIGN, 2 50_SIGNs, 5.0ms\n",
      "video 1/1 (17/70) d:\\Projects\\Study\\GOP\\videos\\test.mp4: 384x640 1 OTHER, 1 GIVE_WAY, 2 50_SIGNs, 5.5ms\n",
      "video 1/1 (18/70) d:\\Projects\\Study\\GOP\\videos\\test.mp4: 384x640 1 OTHER, 2 GIVE_WAYs, 1 70_SIGN, 2 50_SIGNs, 6.5ms\n",
      "video 1/1 (19/70) d:\\Projects\\Study\\GOP\\videos\\test.mp4: 384x640 1 OTHER, 1 GIVE_WAY, 3 70_SIGNs, 1 50_SIGN, 5.5ms\n",
      "video 1/1 (20/70) d:\\Projects\\Study\\GOP\\videos\\test.mp4: 384x640 1 GIVE_WAY, 2 70_SIGNs, 5.5ms\n",
      "video 1/1 (21/70) d:\\Projects\\Study\\GOP\\videos\\test.mp4: 384x640 1 OTHER, 1 GIVE_WAY, 1 70_SIGN, 2 50_SIGNs, 5.5ms\n",
      "video 1/1 (22/70) d:\\Projects\\Study\\GOP\\videos\\test.mp4: 384x640 1 OTHER, 1 GIVE_WAY, 1 70_SIGN, 1 50_SIGN, 5.0ms\n",
      "video 1/1 (23/70) d:\\Projects\\Study\\GOP\\videos\\test.mp4: 384x640 1 OTHER, 1 GIVE_WAY, 1 70_SIGN, 1 50_SIGN, 5.5ms\n",
      "video 1/1 (24/70) d:\\Projects\\Study\\GOP\\videos\\test.mp4: 384x640 1 OTHER, 1 GIVE_WAY, 1 70_SIGN, 5.0ms\n",
      "video 1/1 (25/70) d:\\Projects\\Study\\GOP\\videos\\test.mp4: 384x640 1 OTHER, 1 GIVE_WAY, 1 70_SIGN, 1 50_SIGN, 5.5ms\n",
      "video 1/1 (26/70) d:\\Projects\\Study\\GOP\\videos\\test.mp4: 384x640 1 OTHER, 1 GIVE_WAY, 1 70_SIGN, 1 50_SIGN, 5.5ms\n",
      "video 1/1 (27/70) d:\\Projects\\Study\\GOP\\videos\\test.mp4: 384x640 1 OTHER, 1 70_SIGN, 2 50_SIGNs, 5.0ms\n",
      "video 1/1 (28/70) d:\\Projects\\Study\\GOP\\videos\\test.mp4: 384x640 1 OTHER, 1 GIVE_WAY, 2 70_SIGNs, 2 50_SIGNs, 7.5ms\n",
      "video 1/1 (29/70) d:\\Projects\\Study\\GOP\\videos\\test.mp4: 384x640 1 OTHER, 1 GIVE_WAY, 1 70_SIGN, 2 50_SIGNs, 5.0ms\n",
      "video 1/1 (30/70) d:\\Projects\\Study\\GOP\\videos\\test.mp4: 384x640 1 OTHER, 1 GIVE_WAY, 1 70_SIGN, 2 50_SIGNs, 5.0ms\n",
      "video 1/1 (31/70) d:\\Projects\\Study\\GOP\\videos\\test.mp4: 384x640 1 OTHER, 1 70_SIGN, 2 50_SIGNs, 10.1ms\n",
      "video 1/1 (32/70) d:\\Projects\\Study\\GOP\\videos\\test.mp4: 384x640 1 70_SIGN, 3 50_SIGNs, 9.5ms\n",
      "video 1/1 (33/70) d:\\Projects\\Study\\GOP\\videos\\test.mp4: 384x640 1 70_SIGN, 2 50_SIGNs, 1 60_SIGN, 10.0ms\n",
      "video 1/1 (34/70) d:\\Projects\\Study\\GOP\\videos\\test.mp4: 384x640 1 70_SIGN, 3 50_SIGNs, 6.0ms\n",
      "video 1/1 (35/70) d:\\Projects\\Study\\GOP\\videos\\test.mp4: 384x640 1 OTHER, 1 GIVE_WAY, 1 70_SIGN, 3 50_SIGNs, 9.5ms\n",
      "video 1/1 (36/70) d:\\Projects\\Study\\GOP\\videos\\test.mp4: 384x640 1 OTHER, 1 GIVE_WAY, 1 70_SIGN, 4 50_SIGNs, 6.0ms\n",
      "video 1/1 (37/70) d:\\Projects\\Study\\GOP\\videos\\test.mp4: 384x640 1 OTHER, 1 GIVE_WAY, 1 70_SIGN, 2 50_SIGNs, 5.0ms\n",
      "video 1/1 (38/70) d:\\Projects\\Study\\GOP\\videos\\test.mp4: 384x640 1 OTHER, 1 GIVE_WAY, 2 70_SIGNs, 2 50_SIGNs, 9.5ms\n",
      "video 1/1 (39/70) d:\\Projects\\Study\\GOP\\videos\\test.mp4: 384x640 1 OTHER, 1 GIVE_WAY, 2 70_SIGNs, 1 50_SIGN, 7.0ms\n",
      "video 1/1 (40/70) d:\\Projects\\Study\\GOP\\videos\\test.mp4: 384x640 1 OTHER, 1 70_SIGN, 3 50_SIGNs, 4.5ms\n",
      "video 1/1 (41/70) d:\\Projects\\Study\\GOP\\videos\\test.mp4: 384x640 1 OTHER, 2 GIVE_WAYs, 2 70_SIGNs, 1 50_SIGN, 5.7ms\n",
      "video 1/1 (42/70) d:\\Projects\\Study\\GOP\\videos\\test.mp4: 384x640 1 OTHER, 1 GIVE_WAY, 2 70_SIGNs, 1 50_SIGN, 5.6ms\n",
      "video 1/1 (43/70) d:\\Projects\\Study\\GOP\\videos\\test.mp4: 384x640 1 GIVE_WAY, 1 70_SIGN, 1 50_SIGN, 5.0ms\n",
      "video 1/1 (44/70) d:\\Projects\\Study\\GOP\\videos\\test.mp4: 384x640 1 OTHER, 1 GIVE_WAY, 1 50_SIGN, 5.5ms\n",
      "video 1/1 (45/70) d:\\Projects\\Study\\GOP\\videos\\test.mp4: 384x640 1 OTHER, 1 GIVE_WAY, 1 70_SIGN, 1 50_SIGN, 6.5ms\n",
      "video 1/1 (46/70) d:\\Projects\\Study\\GOP\\videos\\test.mp4: 384x640 1 OTHER, 1 GIVE_WAY, 1 70_SIGN, 3 50_SIGNs, 1 80_SIGN, 4.5ms\n",
      "video 1/1 (47/70) d:\\Projects\\Study\\GOP\\videos\\test.mp4: 384x640 1 OTHER, 1 GIVE_WAY, 3 50_SIGNs, 6.0ms\n",
      "video 1/1 (48/70) d:\\Projects\\Study\\GOP\\videos\\test.mp4: 384x640 1 OTHER, 1 GIVE_WAY, 3 50_SIGNs, 5.0ms\n",
      "video 1/1 (49/70) d:\\Projects\\Study\\GOP\\videos\\test.mp4: 384x640 1 OTHER, 1 GIVE_WAY, 1 70_SIGN, 3 50_SIGNs, 5.0ms\n",
      "video 1/1 (50/70) d:\\Projects\\Study\\GOP\\videos\\test.mp4: 384x640 1 OTHER, 1 GIVE_WAY, 1 70_SIGN, 3 50_SIGNs, 9.1ms\n",
      "video 1/1 (51/70) d:\\Projects\\Study\\GOP\\videos\\test.mp4: 384x640 1 OTHER, 1 GIVE_WAY, 1 70_SIGN, 3 50_SIGNs, 5.0ms\n",
      "video 1/1 (52/70) d:\\Projects\\Study\\GOP\\videos\\test.mp4: 384x640 1 GIVE_WAY, 3 50_SIGNs, 5.5ms\n",
      "video 1/1 (53/70) d:\\Projects\\Study\\GOP\\videos\\test.mp4: 384x640 1 GIVE_WAY, 1 70_SIGN, 2 50_SIGNs, 7.5ms\n",
      "video 1/1 (54/70) d:\\Projects\\Study\\GOP\\videos\\test.mp4: 384x640 1 GIVE_WAY, 1 70_SIGN, 2 50_SIGNs, 6.0ms\n",
      "video 1/1 (55/70) d:\\Projects\\Study\\GOP\\videos\\test.mp4: 384x640 1 GIVE_WAY, 1 70_SIGN, 2 50_SIGNs, 5.5ms\n",
      "video 1/1 (56/70) d:\\Projects\\Study\\GOP\\videos\\test.mp4: 384x640 1 GIVE_WAY, 2 50_SIGNs, 5.0ms\n",
      "video 1/1 (57/70) d:\\Projects\\Study\\GOP\\videos\\test.mp4: 384x640 1 GIVE_WAY, 1 70_SIGN, 1 50_SIGN, 5.5ms\n",
      "video 1/1 (58/70) d:\\Projects\\Study\\GOP\\videos\\test.mp4: 384x640 1 GIVE_WAY, 1 70_SIGN, 1 50_SIGN, 5.0ms\n",
      "video 1/1 (59/70) d:\\Projects\\Study\\GOP\\videos\\test.mp4: 384x640 1 GIVE_WAY, 1 70_SIGN, 2 50_SIGNs, 5.0ms\n",
      "video 1/1 (60/70) d:\\Projects\\Study\\GOP\\videos\\test.mp4: 384x640 1 GIVE_WAY, 1 70_SIGN, 1 50_SIGN, 5.5ms\n",
      "video 1/1 (61/70) d:\\Projects\\Study\\GOP\\videos\\test.mp4: 384x640 1 GIVE_WAY, 1 70_SIGN, 1 50_SIGN, 4.0ms\n",
      "video 1/1 (62/70) d:\\Projects\\Study\\GOP\\videos\\test.mp4: 384x640 1 OTHER, 1 GIVE_WAY, 1 70_SIGN, 2 50_SIGNs, 5.5ms\n",
      "video 1/1 (63/70) d:\\Projects\\Study\\GOP\\videos\\test.mp4: 384x640 1 OTHER, 1 GIVE_WAY, 1 70_SIGN, 1 50_SIGN, 5.0ms\n",
      "video 1/1 (64/70) d:\\Projects\\Study\\GOP\\videos\\test.mp4: 384x640 2 GIVE_WAYs, 1 70_SIGN, 1 50_SIGN, 4.0ms\n",
      "video 1/1 (65/70) d:\\Projects\\Study\\GOP\\videos\\test.mp4: 384x640 1 OTHER, 2 50_SIGNs, 7.5ms\n",
      "video 1/1 (66/70) d:\\Projects\\Study\\GOP\\videos\\test.mp4: 384x640 1 OTHER, 1 GIVE_WAY, 2 50_SIGNs, 5.3ms\n",
      "video 1/1 (67/70) d:\\Projects\\Study\\GOP\\videos\\test.mp4: 384x640 1 OTHER, 1 GIVE_WAY, 1 70_SIGN, 1 50_SIGN, 6.1ms\n",
      "video 1/1 (68/70) d:\\Projects\\Study\\GOP\\videos\\test.mp4: 384x640 1 OTHER, 1 GIVE_WAY, 1 70_SIGN, 2 50_SIGNs, 5.5ms\n",
      "video 1/1 (69/70) d:\\Projects\\Study\\GOP\\videos\\test.mp4: 384x640 1 OTHER, 1 GIVE_WAY, 2 50_SIGNs, 5.0ms\n",
      "video 1/1 (70/70) d:\\Projects\\Study\\GOP\\videos\\test.mp4: 384x640 1 OTHER, 1 GIVE_WAY, 1 70_SIGN, 1 50_SIGN, 5.0ms\n",
      "Speed: 1.4ms preprocess, 8.6ms inference, 1.4ms postprocess per image at shape (1, 3, 384, 640)\n",
      "Results saved to \u001b[1mdetection_results\\predict3\u001b[0m\n"
     ]
    }
   ],
   "source": [
    "results = model(source=\"./videos/test.mp4\", save=True, save_txt=False, conf=0.25, project='detection_results')"
   ]
  },
  {
   "cell_type": "code",
   "execution_count": null,
   "metadata": {},
   "outputs": [],
   "source": []
  }
 ],
 "metadata": {
  "kernelspec": {
   "display_name": "Python 3",
   "language": "python",
   "name": "python3"
  },
  "language_info": {
   "codemirror_mode": {
    "name": "ipython",
    "version": 3
   },
   "file_extension": ".py",
   "mimetype": "text/x-python",
   "name": "python",
   "nbconvert_exporter": "python",
   "pygments_lexer": "ipython3",
   "version": "3.11.6"
  }
 },
 "nbformat": 4,
 "nbformat_minor": 2
}
